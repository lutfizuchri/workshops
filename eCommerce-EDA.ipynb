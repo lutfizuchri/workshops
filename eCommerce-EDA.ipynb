{
  "metadata": {
    "kernelspec": {
      "language": "python",
      "display_name": "Python 3",
      "name": "python3"
    },
    "language_info": {
      "name": "python",
      "version": "3.10.12",
      "mimetype": "text/x-python",
      "codemirror_mode": {
        "name": "ipython",
        "version": 3
      },
      "pygments_lexer": "ipython3",
      "nbconvert_exporter": "python",
      "file_extension": ".py"
    },
    "kaggle": {
      "accelerator": "none",
      "dataSources": [
        {
          "sourceId": 6740173,
          "sourceType": "datasetVersion",
          "datasetId": 3881446
        },
        {
          "sourceId": 8857040,
          "sourceType": "datasetVersion",
          "datasetId": 5331904
        }
      ],
      "dockerImageVersionId": 30886,
      "isInternetEnabled": true,
      "language": "python",
      "sourceType": "notebook",
      "isGpuEnabled": false
    },
    "colab": {
      "name": "Customer Behavior data EDA",
      "provenance": []
    }
  },
  "nbformat_minor": 0,
  "nbformat": 4,
  "cells": [
    {
      "source": [
        "# IMPORTANT: RUN THIS CELL IN ORDER TO IMPORT YOUR KAGGLE DATA SOURCES,\n",
        "# THEN FEEL FREE TO DELETE THIS CELL.\n",
        "# NOTE: THIS NOTEBOOK ENVIRONMENT DIFFERS FROM KAGGLE'S PYTHON\n",
        "# ENVIRONMENT SO THERE MAY BE MISSING LIBRARIES USED BY YOUR\n",
        "# NOTEBOOK.\n",
        "import kagglehub\n",
        "zeesolver_consumer_behavior_and_shopping_habits_dataset_path = kagglehub.dataset_download('zeesolver/consumer-behavior-and-shopping-habits-dataset')\n",
        "dataanalyst001_us_states_ranked_by_population_2024_path = kagglehub.dataset_download('dataanalyst001/us-states-ranked-by-population-2024')\n",
        "\n",
        "print('Data source import complete.')\n"
      ],
      "metadata": {
        "id": "hqhqkXGMTAG3"
      },
      "cell_type": "code",
      "outputs": [],
      "execution_count": null
    },
    {
      "cell_type": "code",
      "source": [
        "# This Python 3 environment comes with many helpful analytics libraries installed\n",
        "# It is defined by the kaggle/python Docker image: https://github.com/kaggle/docker-python\n",
        "# For example, here's several helpful packages to load\n",
        "\n",
        "import numpy as np # linear algebra\n",
        "import pandas as pd # data processing, CSV file I/O (e.g. pd.read_csv)\n",
        "import matplotlib.pyplot as plt\n",
        "import seaborn as sns\n",
        "\n",
        "# Input data files are available in the read-only \"../input/\" directory\n",
        "# For example, running this (by clicking run or pressing Shift+Enter) will list all files under the input directory\n",
        "\n",
        "import os\n",
        "for dirname, _, filenames in os.walk('/kaggle/input'):\n",
        "    for filename in filenames:\n",
        "        print(os.path.join(dirname, filename))\n",
        "\n",
        "# You can write up to 20GB to the current directory (/kaggle/working/) that gets preserved as output when you create a version using \"Save & Run All\"\n",
        "# You can also write temporary files to /kaggle/temp/, but they won't be saved outside of the current session"
      ],
      "metadata": {
        "_uuid": "8f2839f25d086af736a60e9eeb907d3b93b6e0e5",
        "_cell_guid": "b1076dfc-b9ad-4769-8c92-a6c4dae69d19",
        "trusted": true,
        "execution": {
          "iopub.status.busy": "2025-04-10T17:17:03.95648Z",
          "iopub.execute_input": "2025-04-10T17:17:03.956824Z",
          "iopub.status.idle": "2025-04-10T17:17:05.284338Z",
          "shell.execute_reply.started": "2025-04-10T17:17:03.956788Z",
          "shell.execute_reply": "2025-04-10T17:17:05.283241Z"
        },
        "id": "u_JS6GvrTAG4"
      },
      "outputs": [],
      "execution_count": null
    },
    {
      "cell_type": "code",
      "source": [
        "t1 = pd.read_csv('/kaggle/input/consumer-behavior-and-shopping-habits-dataset/shopping_behavior_updated.csv')\n",
        "#both the datasets are same, so we are going with t1\n",
        "state_data = pd.read_csv('/kaggle/input/us-states-ranked-by-population-2024/US States Ranked by Population 2024.csv')"
      ],
      "metadata": {
        "trusted": true,
        "execution": {
          "iopub.status.busy": "2025-04-10T17:17:05.285578Z",
          "iopub.execute_input": "2025-04-10T17:17:05.286173Z",
          "iopub.status.idle": "2025-04-10T17:17:05.343486Z",
          "shell.execute_reply.started": "2025-04-10T17:17:05.286129Z",
          "shell.execute_reply": "2025-04-10T17:17:05.34205Z"
        },
        "id": "MS6R6OM-TAG5"
      },
      "outputs": [],
      "execution_count": null
    },
    {
      "cell_type": "code",
      "source": [
        "state_data = state_data.drop(columns = [\"Rank\",\"Population 2023\",\"Growth Rate\",\"% of US\",\"Density (/mile2)\"]).rename(columns = {'US State' : \"US_State\", \"Population 2024\" : \"Population_2024\"})"
      ],
      "metadata": {
        "trusted": true,
        "execution": {
          "iopub.status.busy": "2025-04-10T17:17:05.344575Z",
          "iopub.execute_input": "2025-04-10T17:17:05.344884Z",
          "iopub.status.idle": "2025-04-10T17:17:05.360494Z",
          "shell.execute_reply.started": "2025-04-10T17:17:05.344855Z",
          "shell.execute_reply": "2025-04-10T17:17:05.359036Z"
        },
        "id": "HFSLrdGyTAG5"
      },
      "outputs": [],
      "execution_count": null
    },
    {
      "cell_type": "code",
      "source": [
        "state_data.head()"
      ],
      "metadata": {
        "trusted": true,
        "execution": {
          "iopub.status.busy": "2025-04-10T17:17:05.361735Z",
          "iopub.execute_input": "2025-04-10T17:17:05.362171Z",
          "iopub.status.idle": "2025-04-10T17:17:05.393433Z",
          "shell.execute_reply.started": "2025-04-10T17:17:05.362135Z",
          "shell.execute_reply": "2025-04-10T17:17:05.392059Z"
        },
        "id": "pHQT6WPyTAG6"
      },
      "outputs": [],
      "execution_count": null
    },
    {
      "cell_type": "code",
      "source": [
        "#no data missing\n",
        "t1.info()"
      ],
      "metadata": {
        "trusted": true,
        "execution": {
          "iopub.status.busy": "2025-04-10T17:17:05.394763Z",
          "iopub.execute_input": "2025-04-10T17:17:05.395165Z",
          "iopub.status.idle": "2025-04-10T17:17:05.426294Z",
          "shell.execute_reply.started": "2025-04-10T17:17:05.395128Z",
          "shell.execute_reply": "2025-04-10T17:17:05.425281Z"
        },
        "id": "3sttf3_JTAG6"
      },
      "outputs": [],
      "execution_count": null
    },
    {
      "cell_type": "code",
      "source": [
        "col_name_mapping = {\n",
        "    \"Customer ID\" : \"Customer_ID\",\n",
        "    \"Age\" : \"Age\",\n",
        "    \"Gender\" : \"Gender\",\n",
        "    \"Category\" : \"Category\",\n",
        "    \"Location\" : \"Location\",\n",
        "    \"Size\" : \"Size\",\n",
        "    \"Color\" : \"Color\",\n",
        "    \"Season\" : \"Season\",\n",
        "    \"Item Purchased\" : \"Item_Purchased\",\n",
        "    \"Purchase Amount (USD)\" : \"Purchase_Amount(USD)\",\n",
        "    \"Review Rating\" : \"Review_Rating\",\n",
        "    \"Subscription Status\" : \"Subscription_Status\",\n",
        "    \"Shipping Type\" : \"Shipping_Type\",\n",
        "    \"Discount Applied\" : \"Discount_Applied\",\n",
        "    \"Promo Code Used\" : \"Promo_Code_Used\",\n",
        "    \"Previous Purchases\" : \"Previous_Purchases\",\n",
        "    \"Payment Method\" : \"Payment_Method\",\n",
        "    \"Frequency of Purchases\" : \"Frequency_of_Purchases\"\n",
        "}"
      ],
      "metadata": {
        "trusted": true,
        "execution": {
          "iopub.status.busy": "2025-04-10T17:17:05.429841Z",
          "iopub.execute_input": "2025-04-10T17:17:05.430254Z",
          "iopub.status.idle": "2025-04-10T17:17:05.436915Z",
          "shell.execute_reply.started": "2025-04-10T17:17:05.430214Z",
          "shell.execute_reply": "2025-04-10T17:17:05.435626Z"
        },
        "id": "ZU3qNlG_TAG6"
      },
      "outputs": [],
      "execution_count": null
    },
    {
      "cell_type": "code",
      "source": [
        "#modifying column names to eliminate whitespaces\n",
        "t1.rename(columns = col_name_mapping, inplace = True)"
      ],
      "metadata": {
        "trusted": true,
        "execution": {
          "iopub.status.busy": "2025-04-10T17:17:05.438862Z",
          "iopub.execute_input": "2025-04-10T17:17:05.439177Z",
          "iopub.status.idle": "2025-04-10T17:17:05.462778Z",
          "shell.execute_reply.started": "2025-04-10T17:17:05.439149Z",
          "shell.execute_reply": "2025-04-10T17:17:05.461701Z"
        },
        "id": "mxdnTqF_TAG7"
      },
      "outputs": [],
      "execution_count": null
    },
    {
      "cell_type": "code",
      "source": [
        "t1.describe()"
      ],
      "metadata": {
        "trusted": true,
        "execution": {
          "iopub.status.busy": "2025-04-10T17:17:05.463868Z",
          "iopub.execute_input": "2025-04-10T17:17:05.464239Z",
          "iopub.status.idle": "2025-04-10T17:17:05.501724Z",
          "shell.execute_reply.started": "2025-04-10T17:17:05.464195Z",
          "shell.execute_reply": "2025-04-10T17:17:05.500534Z"
        },
        "id": "2P_at3v3TAG7"
      },
      "outputs": [],
      "execution_count": null
    },
    {
      "cell_type": "code",
      "source": [
        "ax = sns.countplot(t1,  x= \"Gender\")\n",
        "ax.bar_label(container = ax.containers[0])\n",
        "plt.ylabel(\"Count\")\n",
        "plt.title(\"Gender-wise distribution of Dataset\")\n",
        "plt.show()"
      ],
      "metadata": {
        "trusted": true,
        "execution": {
          "iopub.status.busy": "2025-04-10T17:17:05.502642Z",
          "iopub.execute_input": "2025-04-10T17:17:05.502908Z",
          "iopub.status.idle": "2025-04-10T17:17:05.768125Z",
          "shell.execute_reply.started": "2025-04-10T17:17:05.502885Z",
          "shell.execute_reply": "2025-04-10T17:17:05.766797Z"
        },
        "id": "XeG-Xj00TAG7"
      },
      "outputs": [],
      "execution_count": null
    },
    {
      "cell_type": "code",
      "source": [
        "gender_amt = t1.groupby(\"Gender\",as_index=False)['Purchase_Amount(USD)'].mean()\n",
        "#men and women pay same amount per item\n",
        "ax2 = sns.barplot(gender_amt, x = \"Gender\", y = \"Purchase_Amount(USD)\")\n",
        "plt.bar_label(container = ax2.containers[0])\n",
        "plt.ylabel(\"Mean price of each item bought by each danger\")\n",
        "plt.title(\"Mean price by Gender\")\n",
        "plt.show()\n",
        "\n",
        "#Women bought slightly costlier items than Men in general"
      ],
      "metadata": {
        "trusted": true,
        "execution": {
          "iopub.status.busy": "2025-04-10T17:17:05.769292Z",
          "iopub.execute_input": "2025-04-10T17:17:05.769606Z",
          "iopub.status.idle": "2025-04-10T17:17:05.952508Z",
          "shell.execute_reply.started": "2025-04-10T17:17:05.769579Z",
          "shell.execute_reply": "2025-04-10T17:17:05.951412Z"
        },
        "id": "oMIi8qkQTAG7"
      },
      "outputs": [],
      "execution_count": null
    },
    {
      "cell_type": "code",
      "source": [
        "ax3 = sns.countplot(t1, x = \"Category\",hue=\"Gender\")\n",
        "ax3.bar_label(container=ax3.containers[0],label_type=\"edge\")\n",
        "ax3.bar_label(container=ax3.containers[1],label_type=\"edge\")\n",
        "plt.ylabel(\"Total amount of items purchased\")\n",
        "plt.title(\"Gender-wise distribution across Categories\")\n",
        "plt.show()\n",
        "\n",
        "#Most People purchased Items falling in Clothing category\n",
        "#Least People purchased Items falling in Outerwear category\n",
        "\n",
        "#most women bought clothing items\n",
        "#least women bought outerwear items\n",
        "\n",
        "#most men bought clothing items\n",
        "#least men bought outerwear items"
      ],
      "metadata": {
        "trusted": true,
        "execution": {
          "iopub.status.busy": "2025-04-10T17:17:05.953762Z",
          "iopub.execute_input": "2025-04-10T17:17:05.954064Z",
          "iopub.status.idle": "2025-04-10T17:17:06.219785Z",
          "shell.execute_reply.started": "2025-04-10T17:17:05.954039Z",
          "shell.execute_reply": "2025-04-10T17:17:06.218679Z"
        },
        "id": "JoPY-8sATAG8"
      },
      "outputs": [],
      "execution_count": null
    },
    {
      "cell_type": "code",
      "source": [
        "sns.kdeplot(t1,x = \"Age\")\n",
        "plt.title(\"Age Distribution in dataset\")\n",
        "plt.show()\n",
        "\n",
        "#Shows a normal distribution"
      ],
      "metadata": {
        "trusted": true,
        "execution": {
          "iopub.status.busy": "2025-04-10T17:17:06.220852Z",
          "iopub.execute_input": "2025-04-10T17:17:06.22121Z",
          "iopub.status.idle": "2025-04-10T17:17:06.489882Z",
          "shell.execute_reply.started": "2025-04-10T17:17:06.221182Z",
          "shell.execute_reply": "2025-04-10T17:17:06.488722Z"
        },
        "id": "sHxzdoX1TAG8"
      },
      "outputs": [],
      "execution_count": null
    },
    {
      "cell_type": "code",
      "source": [
        "plt.figure(figsize = (12,5))\n",
        "ax4 = sns.countplot(data=t1,x=\"Item_Purchased\",hue = \"Gender\")\n",
        "plt.bar_label(container = ax4.containers[0],fontsize = 6)\n",
        "plt.bar_label(container = ax4.containers[1],fontsize = 6)\n",
        "plt.xticks(rotation = 90)\n",
        "plt.xlabel(\"Total items sold\")\n",
        "plt.ylabel(\"Items\")\n",
        "plt.title(\"Item purchased by Gender\")\n",
        "plt.legend(fontsize = 9)\n",
        "plt.show()\n",
        "\n",
        "#Men purchased Pants the most\n",
        "#Men purchased Boots the least\n",
        "\n",
        "#Women purchased Blouse the most\n",
        "#Women purchased Jeans the least"
      ],
      "metadata": {
        "trusted": true,
        "execution": {
          "iopub.status.busy": "2025-04-10T17:17:06.49111Z",
          "iopub.execute_input": "2025-04-10T17:17:06.491516Z",
          "iopub.status.idle": "2025-04-10T17:17:07.10451Z",
          "shell.execute_reply.started": "2025-04-10T17:17:06.491478Z",
          "shell.execute_reply": "2025-04-10T17:17:07.103394Z"
        },
        "id": "EUAB3j4nTAG8"
      },
      "outputs": [],
      "execution_count": null
    },
    {
      "cell_type": "code",
      "source": [
        "ax3 = sns.countplot(data = t1, x = \"Season\")\n",
        "plt.bar_label(container = ax3.containers[0])\n",
        "plt.title(\"Season wise sales\")\n",
        "plt.ylabel(\"Total sales\")\n",
        "plt.show()\n",
        "\n",
        "#Most sales happened in Spring followed by Fall, Winter and Summer"
      ],
      "metadata": {
        "trusted": true,
        "execution": {
          "iopub.status.busy": "2025-04-10T17:17:07.105907Z",
          "iopub.execute_input": "2025-04-10T17:17:07.106321Z",
          "iopub.status.idle": "2025-04-10T17:17:07.292438Z",
          "shell.execute_reply.started": "2025-04-10T17:17:07.106255Z",
          "shell.execute_reply": "2025-04-10T17:17:07.291457Z"
        },
        "id": "VQjgSR2JTAG8"
      },
      "outputs": [],
      "execution_count": null
    },
    {
      "cell_type": "code",
      "source": [
        "ax4 = sns.countplot(data = t1, x = \"Season\", hue = \"Gender\")\n",
        "plt.bar_label(container = ax4.containers[0])\n",
        "plt.bar_label(container = ax4.containers[1])\n",
        "plt.legend(fontsize = 5)\n",
        "plt.ylabel(\"Totsl sales\")\n",
        "plt.show()\n",
        "\n",
        "#Men shopped the most in Spring, Winter, Summer and Fall\n",
        "#Women shopped the most in Fall, Spring, Winter and Summer"
      ],
      "metadata": {
        "trusted": true,
        "execution": {
          "iopub.status.busy": "2025-04-10T17:17:07.293346Z",
          "iopub.execute_input": "2025-04-10T17:17:07.293608Z",
          "iopub.status.idle": "2025-04-10T17:17:07.611639Z",
          "shell.execute_reply.started": "2025-04-10T17:17:07.293585Z",
          "shell.execute_reply": "2025-04-10T17:17:07.610199Z"
        },
        "id": "gfTSgqmfTAG8"
      },
      "outputs": [],
      "execution_count": null
    },
    {
      "cell_type": "code",
      "source": [
        "ax5 = sns.countplot(data = t1, x = \"Gender\", hue = \"Size\")\n",
        "plt.bar_label(container = ax5.containers[0])\n",
        "plt.bar_label(container = ax5.containers[1])\n",
        "plt.bar_label(container = ax5.containers[2])\n",
        "plt.bar_label(container = ax5.containers[3])\n",
        "plt.ylabel(\"Items sold\")\n",
        "plt.title(\"Items sold by size\")\n",
        "plt.show()\n",
        "\n",
        "# Men bought mostly M size items followed by L, S and XL\n",
        "# Women showed similar buying patterns as Men"
      ],
      "metadata": {
        "trusted": true,
        "execution": {
          "iopub.status.busy": "2025-04-10T17:17:07.612749Z",
          "iopub.execute_input": "2025-04-10T17:17:07.613246Z",
          "iopub.status.idle": "2025-04-10T17:17:07.865076Z",
          "shell.execute_reply.started": "2025-04-10T17:17:07.613195Z",
          "shell.execute_reply": "2025-04-10T17:17:07.863938Z"
        },
        "id": "bpfFPFTLTAG8"
      },
      "outputs": [],
      "execution_count": null
    },
    {
      "cell_type": "code",
      "source": [
        "ax6 = sns.countplot(data = t1, x = \"Color\")\n",
        "plt.bar_label(container = ax6.containers[0],fontsize = 6)\n",
        "plt.title(\"Items sold Color-wise\",fontsize = 15)\n",
        "plt.ylabel(\"Items sold\")\n",
        "plt.xticks(rotation = 90)\n",
        "plt.show()\n",
        "\n",
        "#People bought Olive items the most\n",
        "#People bought Gold items the least"
      ],
      "metadata": {
        "trusted": true,
        "execution": {
          "iopub.status.busy": "2025-04-10T17:17:07.866168Z",
          "iopub.execute_input": "2025-04-10T17:17:07.866499Z",
          "iopub.status.idle": "2025-04-10T17:17:08.284652Z",
          "shell.execute_reply.started": "2025-04-10T17:17:07.866472Z",
          "shell.execute_reply": "2025-04-10T17:17:08.283529Z"
        },
        "id": "0zx2x6o9TAG9"
      },
      "outputs": [],
      "execution_count": null
    },
    {
      "cell_type": "code",
      "source": [
        "discount_purchase = t1.groupby(\"Discount_Applied\")[\"Purchase_Amount(USD)\"].agg([\"count\",\"mean\"])\n",
        "ax7 = sns.barplot(data = discount_purchase, x = discount_purchase.index, y = \"mean\")\n",
        "plt.title(\"Mean purchase amount based on Discount Applied\")\n",
        "plt.bar_label(container = ax7.containers[0])\n",
        "plt.show()\n",
        "\n",
        "#Mean value of Items purchased is a bit higher when Discount was not applied\n",
        "#It tells us that people apply discount to decresase the price slightly below the average price of other items"
      ],
      "metadata": {
        "trusted": true,
        "execution": {
          "iopub.status.busy": "2025-04-10T17:17:08.285717Z",
          "iopub.execute_input": "2025-04-10T17:17:08.286081Z",
          "iopub.status.idle": "2025-04-10T17:17:08.464801Z",
          "shell.execute_reply.started": "2025-04-10T17:17:08.286039Z",
          "shell.execute_reply": "2025-04-10T17:17:08.463695Z"
        },
        "id": "Q8VNcyURTAG9"
      },
      "outputs": [],
      "execution_count": null
    },
    {
      "cell_type": "code",
      "source": [
        "discount_gender_plot = sns.countplot(data = t1, x = \"Discount_Applied\", hue = \"Gender\")\n",
        "plt.bar_label(container = discount_gender_plot.containers[0])\n",
        "plt.bar_label(container = discount_gender_plot.containers[1])\n",
        "plt.title(\"Discount Applied by Gender\")\n",
        "plt.show()"
      ],
      "metadata": {
        "trusted": true,
        "execution": {
          "iopub.status.busy": "2025-04-10T17:17:08.465877Z",
          "iopub.execute_input": "2025-04-10T17:17:08.46622Z",
          "iopub.status.idle": "2025-04-10T17:17:08.693464Z",
          "shell.execute_reply.started": "2025-04-10T17:17:08.466193Z",
          "shell.execute_reply": "2025-04-10T17:17:08.692553Z"
        },
        "id": "btl43wFwTAG9"
      },
      "outputs": [],
      "execution_count": null
    },
    {
      "cell_type": "code",
      "source": [
        "sns.kdeplot(data = t1, x = \"Review_Rating\")\n",
        "plt.title(\"Distribution of Reviews across dataset\")\n",
        "plt.show()\n",
        "\n",
        "#Shows normale-esque distribution pattern"
      ],
      "metadata": {
        "trusted": true,
        "execution": {
          "iopub.status.busy": "2025-04-10T17:17:08.696997Z",
          "iopub.execute_input": "2025-04-10T17:17:08.697313Z",
          "iopub.status.idle": "2025-04-10T17:17:08.944886Z",
          "shell.execute_reply.started": "2025-04-10T17:17:08.697288Z",
          "shell.execute_reply": "2025-04-10T17:17:08.943777Z"
        },
        "id": "DEiitLWVTAG9"
      },
      "outputs": [],
      "execution_count": null
    },
    {
      "cell_type": "code",
      "source": [
        "ax8 = sns.countplot(data = t1, x = \"Subscription_Status\", hue = \"Gender\")\n",
        "plt.bar_label(container = ax8.containers[0])\n",
        "plt.bar_label(container = ax8.containers[1])\n",
        "plt.title(\"Gender-wise distribution of Subscription status\")\n",
        "plt.xlabel(\"Subscription Status\")\n",
        "plt.ylabel(\"Subscribed people\")\n",
        "plt.show()\n",
        "\n",
        "#No Female customer has subscribed, big takeaway"
      ],
      "metadata": {
        "trusted": true,
        "execution": {
          "iopub.status.busy": "2025-04-10T17:17:08.946541Z",
          "iopub.execute_input": "2025-04-10T17:17:08.946842Z",
          "iopub.status.idle": "2025-04-10T17:17:09.171701Z",
          "shell.execute_reply.started": "2025-04-10T17:17:08.946813Z",
          "shell.execute_reply": "2025-04-10T17:17:09.170706Z"
        },
        "id": "izzvC1yMTAG9"
      },
      "outputs": [],
      "execution_count": null
    },
    {
      "cell_type": "code",
      "source": [
        "fig,axes = plt.subplots(1,2,sharex = True,sharey = True, figsize = (10,5)) #1 row, 2 columns\n",
        "fig.suptitle(\"Shipping Type\")\n",
        "\n",
        "ax9 = sns.countplot(ax = axes[0], data = t1, x = \"Shipping_Type\", hue = \"Gender\")\n",
        "plt.title(\"Shipping Type\")\n",
        "axes[0].set_xlabel(\"Shipping Type\")\n",
        "axes[1].set_xlabel(\"Shipping Type\")\n",
        "axes[0].set_title(\"Shipping Type\")\n",
        "axes[0].set_ylabel(\"Total Items Sold\")\n",
        "axes[1].set_ylabel(\"Total Items Sold\")\n",
        "axes[0].bar_label(ax9.containers[0])\n",
        "axes[0].bar_label(ax9.containers[1])\n",
        "ax10 = sns.countplot(ax = axes[1], data = t1, x = \"Shipping_Type\")\n",
        "\n",
        "plt.bar_label(container = ax10.containers[0])\n",
        "plt.title(\"Gender-wise Shipping Type\")\n",
        "\n",
        "axes[0].tick_params(axis='x', rotation=90)\n",
        "axes[1].tick_params(axis='x', rotation=90)\n",
        "\n",
        "plt.legend(fontsize = 4,loc = \"upper right\")\n",
        "\n",
        "plt.show()\n",
        "\n",
        "#Next Day Air was the most chosen Shipping Type chosen by Men, closely followed by Store Pickup and Express\n",
        "#Free Shipping was the most chosen Shipping Type chosen by Women, followed by Standard and 2-Day Shippin\n"
      ],
      "metadata": {
        "trusted": true,
        "execution": {
          "iopub.status.busy": "2025-04-10T17:17:09.172798Z",
          "iopub.execute_input": "2025-04-10T17:17:09.173118Z",
          "iopub.status.idle": "2025-04-10T17:17:09.675472Z",
          "shell.execute_reply.started": "2025-04-10T17:17:09.173079Z",
          "shell.execute_reply": "2025-04-10T17:17:09.67411Z"
        },
        "id": "X1yed65OTAG9"
      },
      "outputs": [],
      "execution_count": null
    },
    {
      "cell_type": "code",
      "source": [
        "fig2, axes2 = plt.subplots(1,2, sharex = True, sharey = True, figsize = (10,5))\n",
        "fig2.suptitle(\"Promo Code Usage Data\")\n",
        "\n",
        "ax11 = sns.countplot(ax = axes2[0], data = t1, x = \"Promo_Code_Used\")\n",
        "axes2[0].set_xlabel(\"Promo Code Used\")\n",
        "axes2[0].set_ylabel(\"Number of people\")\n",
        "axes2[0].bar_label(ax11.containers[0])\n",
        "\n",
        "ax12 = sns.countplot(ax = axes2[1], data = t1, x = \"Promo_Code_Used\", hue = \"Gender\")\n",
        "axes2[1].set_xlabel(\"Promo Code Used\")\n",
        "axes2[1].set_ylabel(\"Number of people\")\n",
        "axes2[1].bar_label(ax12.containers[0])\n",
        "axes2[1].bar_label(ax12.containers[1])\n",
        "\n",
        "plt.show()\n",
        "\n",
        "#only Males used Promo Codes"
      ],
      "metadata": {
        "trusted": true,
        "execution": {
          "iopub.status.busy": "2025-04-10T17:17:09.676435Z",
          "iopub.execute_input": "2025-04-10T17:17:09.676733Z",
          "iopub.status.idle": "2025-04-10T17:17:09.951085Z",
          "shell.execute_reply.started": "2025-04-10T17:17:09.676707Z",
          "shell.execute_reply": "2025-04-10T17:17:09.949813Z"
        },
        "id": "Q28j4U-6TAG9"
      },
      "outputs": [],
      "execution_count": null
    },
    {
      "cell_type": "code",
      "source": [
        "fig3, axes3 = plt.subplots(1,2, sharex = True, sharey = True, figsize = (10,5))\n",
        "fig3.suptitle(\"Frequency of Purchases Data\")\n",
        "\n",
        "ax13 = sns.countplot(ax = axes3[0], data = t1, x = \"Frequency_of_Purchases\")\n",
        "axes3[0].set_xlabel(\"Promo Code Used\")\n",
        "axes3[0].set_ylabel(\"Number of people\")\n",
        "axes3[0].bar_label(ax13.containers[0])\n",
        "\n",
        "ax14 = sns.countplot(ax = axes3[1], data = t1, x = \"Frequency_of_Purchases\", hue = \"Gender\")\n",
        "axes3[1].set_xlabel(\"Promo Code Used\")\n",
        "axes3[1].set_ylabel(\"Number of people\")\n",
        "axes3[1].bar_label(ax14.containers[0])\n",
        "axes3[1].bar_label(ax14.containers[1])\n",
        "\n",
        "axes3[0].tick_params(axis='x', rotation=90)\n",
        "axes3[1].tick_params(axis='x', rotation=90)\n",
        "\n",
        "plt.show()\n",
        "\n",
        "#most customers(including separate categories of men and women) order once every 3 months"
      ],
      "metadata": {
        "trusted": true,
        "execution": {
          "iopub.status.busy": "2025-04-10T17:17:09.952002Z",
          "iopub.execute_input": "2025-04-10T17:17:09.9523Z",
          "iopub.status.idle": "2025-04-10T17:17:10.422873Z",
          "shell.execute_reply.started": "2025-04-10T17:17:09.952256Z",
          "shell.execute_reply": "2025-04-10T17:17:10.421756Z"
        },
        "id": "Si3b0UDRTAG9"
      },
      "outputs": [],
      "execution_count": null
    },
    {
      "cell_type": "code",
      "source": [
        "p3 = t1.groupby(\"Frequency_of_Purchases\",as_index = False)[\"Previous_Purchases\"].mean()\n",
        "p3 = p3.sort_values(\"Previous_Purchases\")\n",
        "p3"
      ],
      "metadata": {
        "trusted": true,
        "execution": {
          "iopub.status.busy": "2025-04-10T17:17:10.424017Z",
          "iopub.execute_input": "2025-04-10T17:17:10.424448Z",
          "iopub.status.idle": "2025-04-10T17:17:10.440787Z",
          "shell.execute_reply.started": "2025-04-10T17:17:10.424411Z",
          "shell.execute_reply": "2025-04-10T17:17:10.439615Z"
        },
        "id": "L-Jc9-s9TAG9"
      },
      "outputs": [],
      "execution_count": null
    },
    {
      "cell_type": "code",
      "source": [
        "ax15 = sns.barplot(data = p3, x = \"Frequency_of_Purchases\", y = \"Previous_Purchases\")\n",
        "plt.title(\"Previous Purchases based on Frequency of Purchases of customers\")\n",
        "plt.bar_label(ax15.containers[0])\n",
        "plt.ylabel(\"Average Previous Purchases made by the customers\")\n",
        "plt.xlabel(\"Frequency of Purchases\")\n",
        "plt.xticks(rotation = 90)\n",
        "plt.show()\n",
        "\n",
        "#customers who order quarterly are ordering for the longest time"
      ],
      "metadata": {
        "trusted": true,
        "execution": {
          "iopub.status.busy": "2025-04-10T17:17:10.442225Z",
          "iopub.execute_input": "2025-04-10T17:17:10.442651Z",
          "iopub.status.idle": "2025-04-10T17:17:10.708258Z",
          "shell.execute_reply.started": "2025-04-10T17:17:10.442556Z",
          "shell.execute_reply": "2025-04-10T17:17:10.706913Z"
        },
        "id": "7W_22D6LTAG-"
      },
      "outputs": [],
      "execution_count": null
    },
    {
      "cell_type": "code",
      "source": [
        "state_data[\"Population_2024(in 100,000s)\"] = state_data[\"Population_2024\"] / 100000"
      ],
      "metadata": {
        "trusted": true,
        "execution": {
          "iopub.status.busy": "2025-04-10T17:17:10.709492Z",
          "iopub.execute_input": "2025-04-10T17:17:10.709818Z",
          "iopub.status.idle": "2025-04-10T17:17:10.715587Z",
          "shell.execute_reply.started": "2025-04-10T17:17:10.709788Z",
          "shell.execute_reply": "2025-04-10T17:17:10.714474Z"
        },
        "id": "W9v8-pViTAG-"
      },
      "outputs": [],
      "execution_count": null
    },
    {
      "cell_type": "code",
      "source": [
        "loc_wise = t1.groupby(\"Location\", as_index = False)[\"Purchase_Amount(USD)\"].agg([\"count\",\"mean\",\"sum\"])\n",
        "loc_wise = loc_wise.rename(columns = {\"Location\" : \"US_State\"})"
      ],
      "metadata": {
        "trusted": true,
        "execution": {
          "iopub.status.busy": "2025-04-10T17:17:10.717013Z",
          "iopub.execute_input": "2025-04-10T17:17:10.717351Z",
          "iopub.status.idle": "2025-04-10T17:17:10.739147Z",
          "shell.execute_reply.started": "2025-04-10T17:17:10.717323Z",
          "shell.execute_reply": "2025-04-10T17:17:10.738Z"
        },
        "id": "raYDsansTAG-"
      },
      "outputs": [],
      "execution_count": null
    },
    {
      "cell_type": "code",
      "source": [
        "loc_wise2 = loc_wise.merge(state_data, how = \"inner\", right_on=\"US_State\", left_on = \"US_State\")"
      ],
      "metadata": {
        "trusted": true,
        "execution": {
          "iopub.status.busy": "2025-04-10T17:17:10.740235Z",
          "iopub.execute_input": "2025-04-10T17:17:10.740611Z",
          "iopub.status.idle": "2025-04-10T17:17:10.756815Z",
          "shell.execute_reply.started": "2025-04-10T17:17:10.740582Z",
          "shell.execute_reply": "2025-04-10T17:17:10.755731Z"
        },
        "id": "EzrLlvu3TAG-"
      },
      "outputs": [],
      "execution_count": null
    },
    {
      "cell_type": "code",
      "source": [
        "loc_wise2[\"Items sold per 100,000 people\"] = loc_wise2[\"count\"] / loc_wise2[\"Population_2024(in 100,000s)\"]\n",
        "loc_wise2[\"Mean price of item per 100,000 people\"] = loc_wise2[\"mean\"] / loc_wise2[\"Population_2024(in 100,000s)\"]"
      ],
      "metadata": {
        "trusted": true,
        "execution": {
          "iopub.status.busy": "2025-04-10T17:17:10.757824Z",
          "iopub.execute_input": "2025-04-10T17:17:10.758133Z",
          "iopub.status.idle": "2025-04-10T17:17:10.776761Z",
          "shell.execute_reply.started": "2025-04-10T17:17:10.758107Z",
          "shell.execute_reply": "2025-04-10T17:17:10.77581Z"
        },
        "id": "4UzhqpdqTAG-"
      },
      "outputs": [],
      "execution_count": null
    },
    {
      "cell_type": "code",
      "source": [
        "loc_wise2.head()"
      ],
      "metadata": {
        "trusted": true,
        "execution": {
          "iopub.status.busy": "2025-04-10T17:17:10.777778Z",
          "iopub.execute_input": "2025-04-10T17:17:10.778143Z",
          "iopub.status.idle": "2025-04-10T17:17:10.803559Z",
          "shell.execute_reply.started": "2025-04-10T17:17:10.778109Z",
          "shell.execute_reply": "2025-04-10T17:17:10.802596Z"
        },
        "id": "HW4IZcaNTAG-"
      },
      "outputs": [],
      "execution_count": null
    },
    {
      "cell_type": "code",
      "source": [
        "ax16 = sns.scatterplot(data = loc_wise2, x = \"Mean price of item per 100,000 people\", y = \"Items sold per 100,000 people\" )\n",
        "plt.title(\"No of items sold vs Mean Price of items purchased state-wise data(per 100,000 people)\")\n",
        "plt.ylabel(\"No of items sold(per 100,000)\")\n",
        "plt.xlabel(\"Mean price of items purchased(per 100,000)\")\n",
        "for i in range(0,loc_wise2.shape[0]):\n",
        "    ax16.text(x = loc_wise2.iloc[i,7],y = loc_wise2.iloc[i,6],s = loc_wise2.iloc[i,0])\n",
        "avg_across_state1 = loc_wise2[\"Mean price of item per 100,000 people\"].sum() / 50\n",
        "plt.axvline(avg_across_state1, color = \"black\")\n",
        "plt.show()\n",
        "\n",
        "#We can see that Vermont and Wyoming purchased highest amount of items(Vermont being the highest)\n",
        "#They are also the states with the highest mean price of items purchased which means not only did they\n",
        "#bought more items per 100,000 people but also purchased items worth more with Wyoming being the highest"
      ],
      "metadata": {
        "trusted": true,
        "execution": {
          "iopub.status.busy": "2025-04-10T17:17:10.804524Z",
          "iopub.execute_input": "2025-04-10T17:17:10.804817Z",
          "iopub.status.idle": "2025-04-10T17:17:11.180964Z",
          "shell.execute_reply.started": "2025-04-10T17:17:10.804791Z",
          "shell.execute_reply": "2025-04-10T17:17:11.179814Z"
        },
        "id": "5OBZ21GtTAG-"
      },
      "outputs": [],
      "execution_count": null
    },
    {
      "cell_type": "code",
      "source": [
        "t1.head()"
      ],
      "metadata": {
        "trusted": true,
        "execution": {
          "iopub.status.busy": "2025-04-10T17:17:11.182117Z",
          "iopub.execute_input": "2025-04-10T17:17:11.182444Z",
          "iopub.status.idle": "2025-04-10T17:17:11.200435Z",
          "shell.execute_reply.started": "2025-04-10T17:17:11.182415Z",
          "shell.execute_reply": "2025-04-10T17:17:11.199498Z"
        },
        "id": "1yRYYHCfTAG-"
      },
      "outputs": [],
      "execution_count": null
    }
  ]
}